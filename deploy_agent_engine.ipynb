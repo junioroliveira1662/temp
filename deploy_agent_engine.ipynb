{
 "cells": [
  {
   "cell_type": "code",
   "execution_count": 16,
   "id": "9cc29332",
   "metadata": {},
   "outputs": [],
   "source": [
    "# Copyright 2025 Google LLC\n",
    "#\n",
    "# Licensed under the Apache License, Version 2.0 (the \"License\");\n",
    "# you may not use this file except in compliance with the License.\n",
    "# You may obtain a copy of the License at\n",
    "#\n",
    "#     http://www.apache.org/licenses/LICENSE-2.0\n",
    "#\n",
    "# Unless required by applicable law or agreed to in writing, software\n",
    "# distributed under the License is distributed on an \"AS IS\" BASIS,\n",
    "# WITHOUT WARRANTIES OR CONDITIONS OF ANY KIND, either express or implied.\n",
    "# See the License for the specific language governing permissions and\n",
    "# limitations under the License."
   ]
  },
  {
   "cell_type": "markdown",
   "id": "2936e58f",
   "metadata": {},
   "source": [
    "# Deploy ADK Agent in Agent Engine\n",
    "\n",
    "This notebook provides a step-by-step to deploy an Agent Created using Agent Development Kit on Agent Engine (ReasonEngine on Vertex AI)\n",
    "\n",
    "**Important**: This notebook consider that the Agent was built with ADK and the agent files are inside an agent folder and the dependencies in a file config.yaml\n",
    "\n",
    "Folders structure (example): \n",
    "```\n",
    "parent_folder/\n",
    "    agent_folder/\n",
    "        __init__.py\n",
    "        agent.py\n",
    "        config.yaml\n",
    "        ... # other files\n",
    "        .env\n",
    "    deploy_agent_engine.ipynb\n",
    "```\n",
    "\n"
   ]
  },
  {
   "cell_type": "markdown",
   "id": "2a55e116",
   "metadata": {},
   "source": [
    "### Setup and Config"
   ]
  },
  {
   "cell_type": "code",
   "execution_count": 17,
   "id": "3da3c323",
   "metadata": {},
   "outputs": [
    {
     "name": "stdout",
     "output_type": "stream",
     "text": [
      "google-adk==1.10.0\n",
      "google-cloud-aiplatform==1.108.0\n"
     ]
    }
   ],
   "source": [
    "# Checking the google-adk and google-cloud-aiplatform versions\n",
    "!pip freeze | grep google-adk\n",
    "!pip freeze | grep google-cloud-aiplatform"
   ]
  },
  {
   "cell_type": "code",
   "execution_count": 18,
   "id": "8a7db7f0",
   "metadata": {},
   "outputs": [
    {
     "name": "stdout",
     "output_type": "stream",
     "text": [
      "Your browser has been opened to visit:\n",
      "\n",
      "    https://accounts.google.com/o/oauth2/auth?response_type=code&client_id=764086051850-6qr4p6gpi6hn506pt8ejuq83di341hur.apps.googleusercontent.com&redirect_uri=http%3A%2F%2Flocalhost%3A8085%2F&scope=openid+https%3A%2F%2Fwww.googleapis.com%2Fauth%2Fuserinfo.email+https%3A%2F%2Fwww.googleapis.com%2Fauth%2Fcloud-platform+https%3A%2F%2Fwww.googleapis.com%2Fauth%2Fsqlservice.login&state=eQBgXo353vyUBaftRUfH4abz5Z823C&access_type=offline&code_challenge=YWH-i0zEXM2Nvxk7r8NOovdBFNoOp4dN89l5rFNUznI&code_challenge_method=S256\n",
      "\n",
      "\n",
      "Credentials saved to file: [/Users/junioroliveira1662/.config/gcloud/application_default_credentials.json]\n",
      "\n",
      "These credentials will be used by any library that requests Application Default Credentials (ADC).\n",
      "\n",
      "Quota project \"i8-n8n-prod\" was added to ADC which can be used by Google client libraries for billing and quota. Note that some services may still bill the project owning the resource.\n"
     ]
    }
   ],
   "source": [
    "# Authentication on gcloud (if necessary)\n",
    "!gcloud auth application-default login"
   ]
  },
  {
   "cell_type": "code",
   "execution_count": 3,
   "id": "20089cc9",
   "metadata": {},
   "outputs": [
    {
     "name": "stderr",
     "output_type": "stream",
     "text": [
      "/Users/junioroliveira1662/Projects/gitlab/estudos-ai/agent-kanbanize/.venv/lib/python3.13/site-packages/pydantic/_internal/_fields.py:198: UserWarning: Field name \"config_type\" in \"SequentialAgent\" shadows an attribute in parent \"BaseAgent\"\n",
      "  warnings.warn(\n"
     ]
    }
   ],
   "source": [
    "# Basic Libraries\n",
    "import os \n",
    "import vertexai\n",
    "import yaml\n",
    "\n",
    "# AI Engine on Vertex AI \n",
    "from vertexai import agent_engines\n",
    "\n",
    "# Library for AI Engine with ADK\n",
    "from vertexai.preview import reasoning_engines\n",
    "\n",
    "# Just to view JSON response formatted\n",
    "import json\n",
    "from IPython.display import display,Markdown,JSON\n",
    "\n",
    "# To load envvars dict from .env file\n",
    "from dotenv import dotenv_values"
   ]
  },
  {
   "cell_type": "code",
   "execution_count": 4,
   "id": "84fd6ee3",
   "metadata": {},
   "outputs": [
    {
     "name": "stdout",
     "output_type": "stream",
     "text": [
      "PROJECT_ID = i8-n8n-prod\n",
      "LOCATION = us-central1\n",
      "BUCKET = gs://vertexai-deploy\n"
     ]
    }
   ],
   "source": [
    "# Load Agent Config\n",
    "AGENT_DIR = \"kanbanize_agent\"\n",
    "\n",
    "# Load environment variables from .env file from agent Directory \n",
    "from dotenv import load_dotenv\n",
    "env_file = f'./{AGENT_DIR}/.env'\n",
    "load_dotenv(env_file)\n",
    "\n",
    "# Load config from agents (Params and dependencies for deploy)\n",
    "with open(f'./{AGENT_DIR}/config.yaml', 'r') as f:\n",
    "    config = yaml.safe_load(f)\n",
    "\n",
    "# For Vertex AI SDK \n",
    "PROJECT_ID = os.environ.get(\"GOOGLE_CLOUD_PROJECT\")\n",
    "LOCATION = os.environ.get(\"GOOGLE_CLOUD_LOCATION\")\n",
    "BUCKET = os.environ.get(\"GOOGLE_CLOUD_BUCKET\")\n",
    "\n",
    "print(f\"PROJECT_ID = {PROJECT_ID}\")\n",
    "print(f\"LOCATION = {LOCATION}\")\n",
    "print(f\"BUCKET = {BUCKET}\")\n"
   ]
  },
  {
   "cell_type": "markdown",
   "id": "d7aa9d34",
   "metadata": {},
   "source": [
    "### Instantiate Agent from Directory"
   ]
  },
  {
   "cell_type": "code",
   "execution_count": 5,
   "id": "fe2d6771",
   "metadata": {},
   "outputs": [],
   "source": [
    "# Importing Agent Module from AGENT_DIR folder\n",
    "import importlib\n",
    "agent_module = importlib.import_module(f\"{AGENT_DIR.replace('/','.')}.agent\")\n",
    "\n",
    "# Instantiate the Assistant as an ADK App \n",
    "adk_agent = reasoning_engines.AdkApp(\n",
    "    agent=agent_module.root_agent,\n",
    "    enable_tracing=True\n",
    ")"
   ]
  },
  {
   "cell_type": "markdown",
   "id": "6151601a",
   "metadata": {},
   "source": [
    "### Running Agent Local (Optional)"
   ]
  },
  {
   "cell_type": "code",
   "execution_count": 6,
   "id": "52fed743",
   "metadata": {},
   "outputs": [
    {
     "name": "stderr",
     "output_type": "stream",
     "text": [
      "Warning: there are non-text parts in the response: ['thought_signature'], returning concatenated text result from text parts. Check the full candidates.content.parts accessor to get the full model response.\n"
     ]
    },
    {
     "data": {
      "text/markdown": [
       "```json\n",
       "{\n",
       "  \"content\": {\n",
       "    \"parts\": [\n",
       "      {\n",
       "        \"thought_signature\": \"Cu0BAcu98PCLQZIDpyZc4o4mWueZ5vrOTPjrxNMZkMlYIcs9VnXOyNpg4NHbgUBY4V1RRq0STTg1y-WUisfWWu_le2_PHjJxxiJ7KXBwUgO8slultKvFS8g0yHlrXtGHG5vQWtlMpQc7Snct3yK7wRQYogYhj2NJcU-rGG5W9fsW-d6k-n2NnUnJknhmQb8XOheNtLbh-8-E1SB9o6qFKTDs_niHQ7mpHGKOAayf0X-EW2cfGAY-DcUQk2FAlVTbyNM9P-532TJZRRHKk194OhmQYrzh9ctI_UgDzjybcAaZAIJoJFaNqBdECP6XFZf3\",\n",
       "        \"text\": \"Olá! Eu sou um especialista em gestão de backlog e posso te ajudar a criar e detalhar histórias (user stories) de forma eficaz para o Kanbanize.\\n\\nPosso te auxiliar com as seguintes tarefas:\\n\\n1.  **Entender o contexto da sua solicitação:** Vou fazer perguntas para garantir que a história atenda aos seus objetivos e à sua equipe.\\n2.  **Formular user stories:** Ajudarei a escrever suas histórias no formato padrão: \\\"Como [tipo de usuário], quero [objetivo] para [benefício esperado]\\\".\\n3.  **Definir critérios de aceite:** Vamos criar juntos critérios claros e verificáveis para que a equipe saiba exatamente o que precisa ser entregue.\\n4.  **Criar descrições detalhadas:** Sugerirei informações importantes para incluir na descrição do card, facilitando a execução e o entendimento.\\n5.  **Gerenciar cards no Kanbanize:**\\n    *   Posso **criar novos cards** no Kanbanize para você, preenchendo todos os campos necessários como título, descrição, responsável, coluna, etc.\\n    *   Posso **consultar cards existentes** em um board específico do Kanbanize.\\n\\nEm resumo, meu objetivo é garantir que suas histórias sejam bem estruturadas, detalhadas e prontas para serem trabalhadas pela sua equipe no Kanbanize!\\n\\nComo posso começar a te ajudar hoje?\"\n",
       "      }\n",
       "    ],\n",
       "    \"role\": \"model\"\n",
       "  },\n",
       "  \"usage_metadata\": {\n",
       "    \"candidates_token_count\": 294,\n",
       "    \"candidates_tokens_details\": [\n",
       "      {\n",
       "        \"modality\": \"TEXT\",\n",
       "        \"token_count\": 294\n",
       "      }\n",
       "    ],\n",
       "    \"prompt_token_count\": 3502,\n",
       "    \"prompt_tokens_details\": [\n",
       "      {\n",
       "        \"modality\": \"TEXT\",\n",
       "        \"token_count\": 3502\n",
       "      }\n",
       "    ],\n",
       "    \"thoughts_token_count\": 43,\n",
       "    \"total_token_count\": 3839,\n",
       "    \"traffic_type\": \"ON_DEMAND\"\n",
       "  },\n",
       "  \"invocation_id\": \"e-dada421f-47da-44e7-a447-30ed15fd4766\",\n",
       "  \"author\": \"kanbanize_agent\",\n",
       "  \"actions\": {\n",
       "    \"state_delta\": {},\n",
       "    \"artifact_delta\": {},\n",
       "    \"requested_auth_configs\": {}\n",
       "  },\n",
       "  \"id\": \"e97c9d29-e966-47d2-b31b-edd5bbd64760\",\n",
       "  \"timestamp\": 1755009966.911472\n",
       "}\n",
       "```"
      ],
      "text/plain": [
       "<IPython.core.display.Markdown object>"
      ]
     },
     "metadata": {},
     "output_type": "display_data"
    }
   ],
   "source": [
    "# Run a simple query\n",
    "for event in adk_agent.stream_query(\n",
    "    user_id=\"user\",\n",
    "    message=\"Hi, how can you help me?\",\n",
    "):\n",
    "    pass\n",
    "\n",
    "# Formatted output\n",
    "display(Markdown(f\"```json\\n{json.dumps(event, indent=2,ensure_ascii=False)}\\n```\"))"
   ]
  },
  {
   "cell_type": "markdown",
   "id": "1fb6b70a",
   "metadata": {},
   "source": [
    "### Deploy on Agent Engine"
   ]
  },
  {
   "cell_type": "code",
   "execution_count": 7,
   "id": "a46cc108",
   "metadata": {},
   "outputs": [],
   "source": [
    "# Instantiate Vertex AI\n",
    "vertexai.init(\n",
    "    project=PROJECT_ID,\n",
    "    location=LOCATION,\n",
    "    staging_bucket=BUCKET,\n",
    ")"
   ]
  },
  {
   "cell_type": "code",
   "execution_count": 8,
   "id": "396f9745",
   "metadata": {},
   "outputs": [
    {
     "name": "stdout",
     "output_type": "stream",
     "text": [
      "============================ \n",
      "Agent: Jira Agent\n",
      "Resoruce Name: projects/101060224713/locations/us-central1/reasoningEngines/5396640563636207616\n",
      "Created/updated at: 2025-08-06 11:23:14.807609+00:00 \n",
      "\n",
      "\n"
     ]
    }
   ],
   "source": [
    "## Retrieve all existent Agent Engine on your project\n",
    "for agent in agent_engines.list():\n",
    "    print(f\"============================ \\nAgent: {agent.display_name}\\nResoruce Name: {agent.resource_name}\\nCreated/updated at: {agent.update_time} \\n\\n\" )"
   ]
  },
  {
   "cell_type": "code",
   "execution_count": 9,
   "id": "2ad8be79",
   "metadata": {},
   "outputs": [
    {
     "data": {
      "text/plain": [
       "['google-cloud-aiplatform[agent_engines,adk]',\n",
       " 'google-adk',\n",
       " 'cloudpickle',\n",
       " 'pydantic',\n",
       " 'python-dotenv',\n",
       " 'requests',\n",
       " 'pyyaml']"
      ]
     },
     "execution_count": 9,
     "metadata": {},
     "output_type": "execute_result"
    }
   ],
   "source": [
    "# Read Requirements for Agent from config file\n",
    "# Usually this ['google-cloud-aiplatform[agent_engines]', 'google-adk', 'cloudpickle'] plus the packages that agent needs\n",
    "requirements = config['deploy']['dependencies']\n",
    "requirements"
   ]
  },
  {
   "cell_type": "code",
   "execution_count": 10,
   "id": "2892d8bc",
   "metadata": {},
   "outputs": [
    {
     "data": {
      "text/plain": [
       "['kanbanize_agent']"
      ]
     },
     "execution_count": 10,
     "metadata": {},
     "output_type": "execute_result"
    }
   ],
   "source": [
    "# Extra packages from agent folder (This is all .py files inside Agent Directory)\n",
    "extra_packages = [AGENT_DIR]\n",
    "extra_packages"
   ]
  },
  {
   "cell_type": "code",
   "execution_count": 11,
   "id": "0dd2f250",
   "metadata": {},
   "outputs": [],
   "source": [
    "# Load Variables on env_vars dict to be used when creating the Agent\n",
    "env_vars = dotenv_values(dotenv_path=env_file)\n",
    "\n",
    "# Remove GCP variables (this variables already are defined in Agent Engine and are reserved)\n",
    "keys_to_remove = [\n",
    "    \"GOOGLE_GENAI_USE_VERTEXAI\",\n",
    "    \"GOOGLE_CLOUD_PROJECT\",\n",
    "    \"GOOGLE_CLOUD_LOCATION\",\n",
    "    \"GOOGLE_CLOUD_BUCKET\"\n",
    "]\n",
    "\n",
    "for key in keys_to_remove:\n",
    "    env_vars.pop(key, None)"
   ]
  },
  {
   "cell_type": "code",
   "execution_count": 12,
   "id": "f3aa76bc",
   "metadata": {},
   "outputs": [
    {
     "name": "stdout",
     "output_type": "stream",
     "text": [
      "Identified the following requirements: {'google-cloud-aiplatform': '1.108.0', 'pydantic': '2.11.7', 'cloudpickle': '3.1.1'}\n",
      "The final list of requirements: ['google-cloud-aiplatform[agent_engines,adk]', 'google-adk', 'cloudpickle', 'pydantic', 'python-dotenv', 'requests', 'pyyaml']\n",
      "Using bucket vertexai-deploy\n",
      "Wrote to gs://vertexai-deploy/agent_engine/agent_engine.pkl\n",
      "Writing to gs://vertexai-deploy/agent_engine/requirements.txt\n",
      "Creating in-memory tarfile of extra_packages\n",
      "Writing to gs://vertexai-deploy/agent_engine/dependencies.tar.gz\n",
      "Creating AgentEngine\n",
      "Create AgentEngine backing LRO: projects/101060224713/locations/us-central1/reasoningEngines/8348679750633390080/operations/3639878285350928384\n",
      "View progress and logs at https://console.cloud.google.com/logs/query?project=i8-n8n-prod\n",
      "AgentEngine created. Resource name: projects/101060224713/locations/us-central1/reasoningEngines/8348679750633390080\n",
      "To use this AgentEngine in another session:\n",
      "agent_engine = vertexai.agent_engines.get('projects/101060224713/locations/us-central1/reasoningEngines/8348679750633390080')\n"
     ]
    }
   ],
   "source": [
    "# Deploy the Agent on AI Engine (This takes a few minutes)\n",
    "remote_agent = agent_engines.create(\n",
    "    agent_engine = adk_agent,             # The Agent instantiated as ADK agent\n",
    "    requirements=requirements,            # Requirements file\n",
    "    extra_packages=extra_packages,        # Extra packages\n",
    "    display_name=config['agent_display_name'],    # Display name  \n",
    "    description=config['agent_description'],     # Description\n",
    "    env_vars=env_vars                     # Env Vars dict\n",
    ")"
   ]
  },
  {
   "cell_type": "markdown",
   "id": "e09c0018",
   "metadata": {},
   "source": [
    "### Test Remote Agent on Agent Engine"
   ]
  },
  {
   "cell_type": "code",
   "execution_count": 15,
   "id": "6c662923",
   "metadata": {},
   "outputs": [
    {
     "name": "stdout",
     "output_type": "stream",
     "text": [
      "============================ \n",
      "Agent: Kanbanize Agent\n",
      "Resoruce Name: projects/101060224713/locations/us-central1/reasoningEngines/8348679750633390080\n",
      "Created/updated at: 2025-08-12 14:50:06.583398+00:00 \n",
      "\n",
      "\n",
      "============================ \n",
      "Agent: Jira Agent\n",
      "Resoruce Name: projects/101060224713/locations/us-central1/reasoningEngines/5396640563636207616\n",
      "Created/updated at: 2025-08-06 11:23:14.807609+00:00 \n",
      "\n",
      "\n"
     ]
    }
   ],
   "source": [
    "## Retrieve all existent Agent Engine resource.names (Agents)\n",
    "# To confirm new agent was deployed\n",
    "for agent in agent_engines.list():\n",
    "    print(f\"============================ \\nAgent: {agent.display_name}\\nResoruce Name: {agent.resource_name}\\nCreated/updated at: {agent.update_time} \\n\\n\" )"
   ]
  },
  {
   "cell_type": "code",
   "execution_count": 14,
   "id": "6a435c3e",
   "metadata": {},
   "outputs": [
    {
     "name": "stdout",
     "output_type": "stream",
     "text": [
      "=================== Remote Agent ============================ \n",
      " Name: Kanbanize Agent\n",
      " Resoruce Name: projects/101060224713/locations/us-central1/reasoningEngines/8348679750633390080\n",
      " Created/updated at: 2025-08-12 14:50:06.583398+00:00 \n",
      "\n",
      "\n"
     ]
    }
   ],
   "source": [
    "# Confirm that \"remote_agent\" is pointing to your new agent\n",
    "print(f\"=================== Remote Agent ============================ \\n\\\n",
    " Name: {remote_agent.display_name}\\n\\\n",
    " Resoruce Name: {remote_agent.resource_name}\\n\\\n",
    " Created/updated at: {remote_agent.update_time} \\n\\n\" )"
   ]
  },
  {
   "cell_type": "code",
   "execution_count": 16,
   "id": "4bc18e64",
   "metadata": {},
   "outputs": [
    {
     "data": {
      "application/json": {
       "actions": {
        "artifact_delta": {},
        "requested_auth_configs": {},
        "state_delta": {}
       },
       "author": "kanbanize_agent",
       "content": {
        "parts": [
         {
          "text": "Hello! I can help you by searching for information within Kanbanize. You can ask me questions about tasks, projects, and their statuses, and I'll find the relevant details for you. For example, you can ask me to:\n\n*   \"Show me all tasks in the 'POC ADK GOOGLE' project.\"\n*   \"Find all issues assigned to me that are not yet resolved.\"\n*   \"List all high-priority stories.\"\n\nJust tell me what you'd like to know!"
         }
        ],
        "role": "model"
       },
       "id": "953cb592-9e05-4d40-b291-17b976f9ed18",
       "invocation_id": "e-e49cfe61-72b3-421b-9ac4-37f7790e4137",
       "timestamp": 1754482000.251909,
       "usage_metadata": {
        "candidates_token_count": 104,
        "candidates_tokens_details": [
         {
          "modality": "TEXT",
          "token_count": 104
         }
        ],
        "prompt_token_count": 2915,
        "prompt_tokens_details": [
         {
          "modality": "TEXT",
          "token_count": 2915
         }
        ],
        "thoughts_token_count": 67,
        "total_token_count": 3086,
        "traffic_type": "ON_DEMAND"
       }
      },
      "text/plain": [
       "<IPython.core.display.JSON object>"
      ]
     },
     "metadata": {
      "application/json": {
       "expanded": true,
       "root": "root"
      }
     },
     "output_type": "display_data"
    }
   ],
   "source": [
    "# Run a simple query\n",
    "for remote_event in remote_agent.stream_query(\n",
    "    user_id=\"user\",\n",
    "    message=\"Hi, how can you help me?\",\n",
    "):\n",
    "    display(JSON(remote_event,expanded=True)) "
   ]
  },
  {
   "cell_type": "code",
   "execution_count": 17,
   "id": "da9b0bdd",
   "metadata": {},
   "outputs": [
    {
     "data": {
      "text/markdown": [
       "```json\n",
       "{\n",
       "  \"content\": {\n",
       "    \"parts\": [\n",
       "      {\n",
       "        \"text\": \"Hello! I can help you by searching for information within Kanbanize. You can ask me questions about tasks, projects, and their statuses, and I'll find the relevant details for you. For example, you can ask me to:\\n\\n*   \\\"Show me all tasks in the 'POC ADK GOOGLE' project.\\\"\\n*   \\\"Find all issues assigned to me that are not yet resolved.\\\"\\n*   \\\"List all high-priority stories.\\\"\\n\\nJust tell me what you'd like to know!\"\n",
       "      }\n",
       "    ],\n",
       "    \"role\": \"model\"\n",
       "  },\n",
       "  \"usage_metadata\": {\n",
       "    \"candidates_token_count\": 104,\n",
       "    \"candidates_tokens_details\": [\n",
       "      {\n",
       "        \"modality\": \"TEXT\",\n",
       "        \"token_count\": 104\n",
       "      }\n",
       "    ],\n",
       "    \"prompt_token_count\": 2915,\n",
       "    \"prompt_tokens_details\": [\n",
       "      {\n",
       "        \"modality\": \"TEXT\",\n",
       "        \"token_count\": 2915\n",
       "      }\n",
       "    ],\n",
       "    \"thoughts_token_count\": 67,\n",
       "    \"total_token_count\": 3086,\n",
       "    \"traffic_type\": \"ON_DEMAND\"\n",
       "  },\n",
       "  \"invocation_id\": \"e-e49cfe61-72b3-421b-9ac4-37f7790e4137\",\n",
       "  \"author\": \"kanbanize_agent\",\n",
       "  \"actions\": {\n",
       "    \"state_delta\": {},\n",
       "    \"artifact_delta\": {},\n",
       "    \"requested_auth_configs\": {}\n",
       "  },\n",
       "  \"id\": \"953cb592-9e05-4d40-b291-17b976f9ed18\",\n",
       "  \"timestamp\": 1754482000.251909\n",
       "}\n",
       "```"
      ],
      "text/plain": [
       "<IPython.core.display.Markdown object>"
      ]
     },
     "metadata": {},
     "output_type": "display_data"
    }
   ],
   "source": [
    "# Formatted final output\n",
    "display(Markdown(f\"```json\\n{json.dumps(remote_event, indent=2,ensure_ascii=False)}\\n```\"))"
   ]
  }
 ],
 "metadata": {
  "kernelspec": {
   "display_name": ".venv (3.13.5)",
   "language": "python",
   "name": "python3"
  },
  "language_info": {
   "codemirror_mode": {
    "name": "ipython",
    "version": 3
   },
   "file_extension": ".py",
   "mimetype": "text/x-python",
   "name": "python",
   "nbconvert_exporter": "python",
   "pygments_lexer": "ipython3",
   "version": "3.13.5"
  }
 },
 "nbformat": 4,
 "nbformat_minor": 5
}
